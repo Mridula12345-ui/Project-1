{
  "nbformat": 4,
  "nbformat_minor": 0,
  "metadata": {
    "colab": {
      "provenance": []
    },
    "kernelspec": {
      "name": "python3",
      "display_name": "Python 3"
    },
    "language_info": {
      "name": "python"
    }
  },
  "cells": [
    {
      "cell_type": "code",
      "execution_count": null,
      "metadata": {
        "colab": {
          "base_uri": "https://localhost:8080/"
        },
        "id": "_ZB-jc4auvlP",
        "outputId": "d616daa8-36c0-49c7-d221-9ac8f7aada36"
      },
      "outputs": [
        {
          "output_type": "stream",
          "name": "stdout",
          "text": [
            "Enter first number: 1\n",
            "Enter second number: 5\n",
            "Enter third number: 8\n",
            "Largest number is: 8\n"
          ]
        }
      ],
      "source": [
        "#Largest of Three Numbers\n",
        "a = int(input(\"Enter first number: \"))\n",
        "b = int(input(\"Enter second number: \"))\n",
        "c = int(input(\"Enter third number: \"))\n",
        "if a >= b and a >= c:\n",
        "    print(\"Largest number is:\", a)\n",
        "elif b >= a and b >= c:\n",
        "    print(\"Largest number is:\", b)\n",
        "else:\n",
        "    print(\"Largest number is:\", c)\n",
        "\n"
      ]
    },
    {
      "cell_type": "code",
      "source": [
        "#Even or Odd\n",
        "num = int(input(\"Enter a number: \"))\n",
        "if num % 2 == 0:\n",
        "    print(\"Even\")\n",
        "else:\n",
        "    print(\"Odd\")\n"
      ],
      "metadata": {
        "colab": {
          "base_uri": "https://localhost:8080/"
        },
        "id": "qPa2YuPivXJP",
        "outputId": "5f7171af-6188-41dd-b1c7-4ffca4e5b622"
      },
      "execution_count": null,
      "outputs": [
        {
          "output_type": "stream",
          "name": "stdout",
          "text": [
            "Enter a number: 11\n",
            "Odd\n"
          ]
        }
      ]
    },
    {
      "cell_type": "code",
      "source": [
        "# Reverse a String\n",
        "s = input(\"Enter a string: \")\n",
        "print(\"Reversed string:\", s[::-1])\n"
      ],
      "metadata": {
        "colab": {
          "base_uri": "https://localhost:8080/"
        },
        "id": "nKhSZiS_vpFo",
        "outputId": "d4e803b7-9d64-43e2-b5af-6498b1f6fed1"
      },
      "execution_count": null,
      "outputs": [
        {
          "output_type": "stream",
          "name": "stdout",
          "text": [
            "Enter a string: MRIDULA\n",
            "Reversed string: ALUDIRM\n"
          ]
        }
      ]
    },
    {
      "cell_type": "code",
      "source": [
        "# Count Vowels in a String\n",
        "s = input(\"Enter a string: \")\n",
        "vowels = \"aeiouAEIOU\"\n",
        "count = sum(1 for char in s if char in vowels)\n",
        "print(\"Number of vowels:\", count)\n"
      ],
      "metadata": {
        "colab": {
          "base_uri": "https://localhost:8080/"
        },
        "id": "KkAcaXArvzsm",
        "outputId": "6118712b-c81c-4e50-f94e-1b1660ccb4a6"
      },
      "execution_count": null,
      "outputs": [
        {
          "output_type": "stream",
          "name": "stdout",
          "text": [
            "Enter a string: MRIDULA\n",
            "Number of vowels: 3\n"
          ]
        }
      ]
    },
    {
      "cell_type": "code",
      "source": [
        "#. Simple Calculator\n",
        "a = float(input(\"Enter first number: \"))\n",
        "b = float(input(\"Enter second number: \"))\n",
        "op = input(\"Enter operation (+, -, *, /): \")\n",
        "\n",
        "if op == '+':\n",
        "    print(\"Result:\", a + b)\n",
        "elif op == '-':\n",
        "    print(\"Result:\", a - b)\n",
        "elif op == '*':\n",
        "    print(\"Result:\", a * b)\n",
        "elif op == '/':\n",
        "    if b != 0:\n",
        "        print(\"Result:\", a / b)\n",
        "    else:\n",
        "        print(\"Cannot divide by zero\")\n",
        "else:\n",
        "    print(\"Invalid operator\")\n"
      ],
      "metadata": {
        "colab": {
          "base_uri": "https://localhost:8080/"
        },
        "id": "Bkkpf-c0v8mc",
        "outputId": "0f50715b-acd5-474f-ba21-9a3da2d3f1d1"
      },
      "execution_count": null,
      "outputs": [
        {
          "output_type": "stream",
          "name": "stdout",
          "text": [
            "Enter first number: 5\n",
            "Enter second number: 5\n",
            "Enter operation (+, -, *, /): *\n",
            "Result: 25.0\n"
          ]
        }
      ]
    },
    {
      "cell_type": "code",
      "source": [
        "#Prime Number Check\n",
        "n = int(input(\"Enter a number: \"))\n",
        "if n < 2:\n",
        "    print(\"Not prime\")\n",
        "else:\n",
        "    for i in range(2, int(n**0.5)+1):\n",
        "        if n % i == 0:\n",
        "            print(\"Not prime\")\n",
        "            break\n",
        "    else:\n",
        "        print(\"Prime number\")\n"
      ],
      "metadata": {
        "colab": {
          "base_uri": "https://localhost:8080/"
        },
        "id": "rpFtaNbfwFdQ",
        "outputId": "a0b78834-5551-453e-c160-8157c479103b"
      },
      "execution_count": null,
      "outputs": [
        {
          "output_type": "stream",
          "name": "stdout",
          "text": [
            "Enter a number: 5\n",
            "Prime number\n"
          ]
        }
      ]
    },
    {
      "cell_type": "code",
      "source": [
        "# Multiplication Table\n",
        "n = int(input(\"Enter a number: \"))\n",
        "for i in range(1, 11):\n",
        "    print(f\"{n} x {i} = {n*i}\")\n"
      ],
      "metadata": {
        "colab": {
          "base_uri": "https://localhost:8080/"
        },
        "id": "rWbSpb9cwSHB",
        "outputId": "b1b5a167-6950-4c5d-c28e-665e2ad58f0c"
      },
      "execution_count": null,
      "outputs": [
        {
          "output_type": "stream",
          "name": "stdout",
          "text": [
            "Enter a number: 5\n",
            "5 x 1 = 5\n",
            "5 x 2 = 10\n",
            "5 x 3 = 15\n",
            "5 x 4 = 20\n",
            "5 x 5 = 25\n",
            "5 x 6 = 30\n",
            "5 x 7 = 35\n",
            "5 x 8 = 40\n",
            "5 x 9 = 45\n",
            "5 x 10 = 50\n"
          ]
        }
      ]
    },
    {
      "cell_type": "code",
      "source": [
        "#Fibonacci Series\n",
        "n = int(input(\"Enter number of terms: \"))\n",
        "a, b = 0, 1\n",
        "for _ in range(n):\n",
        "    print(a, end=' ')\n",
        "    a, b = b, a + b\n"
      ],
      "metadata": {
        "colab": {
          "base_uri": "https://localhost:8080/"
        },
        "id": "lYyTv8tSwbbU",
        "outputId": "56e44980-8d18-426e-b89e-bd22fc2c34f4"
      },
      "execution_count": null,
      "outputs": [
        {
          "output_type": "stream",
          "name": "stdout",
          "text": [
            "Enter number of terms: 5\n",
            "0 1 1 2 3 "
          ]
        }
      ]
    },
    {
      "cell_type": "code",
      "source": [
        "#Factorial Using Loop\n",
        "n = int(input(\"Enter a number: \"))\n",
        "fact = 1\n",
        "for i in range(1, n + 1):\n",
        "    fact *= i\n",
        "print(\"Factorial:\", fact)\n"
      ],
      "metadata": {
        "colab": {
          "base_uri": "https://localhost:8080/"
        },
        "id": "MMiQsVyQwihj",
        "outputId": "ad4ea145-d683-4c6f-ec97-c1d3c6aaf994"
      },
      "execution_count": null,
      "outputs": [
        {
          "output_type": "stream",
          "name": "stdout",
          "text": [
            "Enter a number: 5\n",
            "Factorial: 120\n"
          ]
        }
      ]
    },
    {
      "cell_type": "code",
      "source": [
        "# Palindrome Number Check\n",
        "n = input(\"Enter a number: \")\n",
        "if n == n[::-1]:\n",
        "    print(\"Palindrome\")\n",
        "else:\n",
        "    print(\"Not a palindrome\")\n"
      ],
      "metadata": {
        "colab": {
          "base_uri": "https://localhost:8080/"
        },
        "id": "IFmuJTtDwqeZ",
        "outputId": "b41e1cf0-5754-4cbe-a757-18abe13ef363"
      },
      "execution_count": null,
      "outputs": [
        {
          "output_type": "stream",
          "name": "stdout",
          "text": [
            "Enter a number: 555\n",
            "Palindrome\n"
          ]
        }
      ]
    },
    {
      "cell_type": "code",
      "source": [
        "# Sum of Digits\n",
        "n = int(input(\"Enter a number: \"))\n",
        "sum_digits = 0\n",
        "while n > 0:\n",
        "    sum_digits += n % 10\n",
        "    n //= 10\n",
        "print(\"Sum of digits:\", sum_digits)\n"
      ],
      "metadata": {
        "colab": {
          "base_uri": "https://localhost:8080/"
        },
        "id": "S5da3Im7wxTQ",
        "outputId": "c00becd0-7409-4837-f893-6fa0ca91efe4"
      },
      "execution_count": null,
      "outputs": [
        {
          "output_type": "stream",
          "name": "stdout",
          "text": [
            "Enter a number: 5\n",
            "Sum of digits: 5\n"
          ]
        }
      ]
    },
    {
      "cell_type": "code",
      "source": [
        "# Celsius to Fahrenheit\n",
        "c = float(input(\"Enter temperature in Celsius: \"))\n",
        "f = (c * 9/5) + 32\n",
        "print(\"Fahrenheit:\", f)\n"
      ],
      "metadata": {
        "colab": {
          "base_uri": "https://localhost:8080/"
        },
        "id": "oItmptyJw4_a",
        "outputId": "13f1f995-bc7f-46c0-a9b3-42df3a440edf"
      },
      "execution_count": null,
      "outputs": [
        {
          "output_type": "stream",
          "name": "stdout",
          "text": [
            "Enter temperature in Celsius: 55\n",
            "Fahrenheit: 131.0\n"
          ]
        }
      ]
    },
    {
      "cell_type": "code",
      "source": [
        "#Max of Two Numbers (Function)\n",
        "def find_max(a, b):\n",
        "    return a if a > b else b\n",
        "\n",
        "x = int(input(\"Enter first number: \"))\n",
        "y = int(input(\"Enter second number: \"))\n",
        "print(\"Maximum is:\", find_max(x, y))\n"
      ],
      "metadata": {
        "colab": {
          "base_uri": "https://localhost:8080/"
        },
        "id": "uTNXX924xCLl",
        "outputId": "955c1677-5626-43aa-fe44-99a5e6ccd923"
      },
      "execution_count": null,
      "outputs": [
        {
          "output_type": "stream",
          "name": "stdout",
          "text": [
            "Enter first number: 5\n",
            "Enter second number: 7\n",
            "Maximum is: 7\n"
          ]
        }
      ]
    },
    {
      "cell_type": "code",
      "source": [
        "# Average of a List\n",
        "lst = list(map(int, input(\"Enter numbers separated by space: \").split()))\n",
        "print(\"Average:\", sum(lst)/len(lst))\n"
      ],
      "metadata": {
        "colab": {
          "base_uri": "https://localhost:8080/"
        },
        "id": "9-Nk2-6JxKZH",
        "outputId": "22713b6e-0e7d-4e92-d9bd-3e803a7fec44"
      },
      "execution_count": null,
      "outputs": [
        {
          "output_type": "stream",
          "name": "stdout",
          "text": [
            "Enter numbers separated by space: 1 5 7 8\n",
            "Average: 5.25\n"
          ]
        }
      ]
    },
    {
      "cell_type": "code",
      "source": [
        "#Second Largest in List\n",
        "lst = list(map(int, input(\"Enter numbers: \").split()))\n",
        "unique = list(set(lst))\n",
        "unique.sort()\n",
        "if len(unique) >= 2:\n",
        "    print(\"Second largest:\", unique[-2])\n",
        "else:\n",
        "    print(\"Not enough unique elements\")\n"
      ],
      "metadata": {
        "colab": {
          "base_uri": "https://localhost:8080/"
        },
        "id": "tKFMv3m1xR3B",
        "outputId": "c2463f7b-8726-42e7-a8ae-13e5d7dc33d2"
      },
      "execution_count": null,
      "outputs": [
        {
          "output_type": "stream",
          "name": "stdout",
          "text": [
            "Enter numbers: 1 5 7\n",
            "Second largest: 5\n"
          ]
        }
      ]
    },
    {
      "cell_type": "code",
      "source": [
        "# Count Words in Sentence\n",
        "sentence = input(\"Enter a sentence: \")\n",
        "words = sentence.split()\n",
        "print(\"Word count:\", len(words))\n"
      ],
      "metadata": {
        "colab": {
          "base_uri": "https://localhost:8080/"
        },
        "id": "Pq4XD5GGxaVV",
        "outputId": "9cb0b1ce-9de4-4673-afb1-aebb76b29987"
      },
      "execution_count": null,
      "outputs": [
        {
          "output_type": "stream",
          "name": "stdout",
          "text": [
            "Enter a sentence: MY NAME IS MRIDULA\n",
            "Word count: 4\n"
          ]
        }
      ]
    },
    {
      "cell_type": "code",
      "source": [
        "# Remove Duplicates from List\n",
        "lst = list(map(int, input(\"Enter list with duplicates: \").split()))\n",
        "no_duplicates = list(set(lst))\n",
        "print(\"List after removing duplicates:\", no_duplicates)\n"
      ],
      "metadata": {
        "colab": {
          "base_uri": "https://localhost:8080/"
        },
        "id": "WGh636YExmyi",
        "outputId": "361a88c9-8cbe-4d6f-8450-439cb1985a18"
      },
      "execution_count": null,
      "outputs": [
        {
          "output_type": "stream",
          "name": "stdout",
          "text": [
            "Enter list with duplicates: 1 1 5  7 8 8  \n",
            "List after removing duplicates: [8, 1, 5, 7]\n"
          ]
        }
      ]
    },
    {
      "cell_type": "code",
      "source": [
        "# Dictionary from Two Lists\n",
        "keys = input(\"Enter keys: \").split()\n",
        "values = input(\"Enter values: \").split()\n",
        "d = dict(zip(keys, values))\n",
        "print(\"Dictionary:\", d)\n"
      ],
      "metadata": {
        "colab": {
          "base_uri": "https://localhost:8080/"
        },
        "id": "skSicvWpx0rD",
        "outputId": "4659b37b-58e7-42eb-9ae3-3bdaa30f11ab"
      },
      "execution_count": null,
      "outputs": [
        {
          "output_type": "stream",
          "name": "stdout",
          "text": [
            "Enter keys: M\n",
            "Enter values: 5\n",
            "Dictionary: {'M': '5'}\n"
          ]
        }
      ]
    },
    {
      "cell_type": "code",
      "source": [
        "# Sort List Without sort()\n",
        "lst = list(map(int, input(\"Enter list elements: \").split()))\n",
        "for i in range(len(lst)):\n",
        "    for j in range(i+1, len(lst)):\n",
        "        if lst[i] > lst[j]:\n",
        "            lst[i], lst[j] = lst[j], lst[i]\n",
        "print(\"Sorted list:\", lst)\n"
      ],
      "metadata": {
        "colab": {
          "base_uri": "https://localhost:8080/"
        },
        "id": "9EYUdubNyH_z",
        "outputId": "8168b324-c13e-4586-a619-18f60dfae798"
      },
      "execution_count": null,
      "outputs": [
        {
          "output_type": "stream",
          "name": "stdout",
          "text": [
            "Enter list elements: 5 7 8 1\n",
            "Sorted list: [1, 5, 7, 8]\n"
          ]
        }
      ]
    },
    {
      "cell_type": "code",
      "source": [
        "# Pangram Check\n",
        "def is_pangram(s):\n",
        "    alphabet = set('abcdefghijklmnopqrstuvwxyz')\n",
        "    return alphabet <= set(s.lower())\n",
        "\n",
        "sentence = input(\"Enter a sentence: \")\n",
        "print(\"Is pangram?\", is_pangram(sentence))\n"
      ],
      "metadata": {
        "colab": {
          "base_uri": "https://localhost:8080/"
        },
        "id": "sM3jkj3jyZjX",
        "outputId": "3b706bc3-ecaa-486f-a6be-6a8626d761c9"
      },
      "execution_count": null,
      "outputs": [
        {
          "output_type": "stream",
          "name": "stdout",
          "text": [
            "Enter a sentence: MY NAME IS MRIDULA\n",
            "Is pangram? False\n"
          ]
        }
      ]
    },
    {
      "cell_type": "code",
      "source": [
        "# Check if Input is Number\n",
        "x = input(\"Enter input: \")\n",
        "try:\n",
        "    float(x)\n",
        "    print(\"It is a number\")\n",
        "except ValueError:\n",
        "    print(\"Not a number\")\n"
      ],
      "metadata": {
        "colab": {
          "base_uri": "https://localhost:8080/"
        },
        "id": "TPDoMg3Qyonh",
        "outputId": "ead8c9cb-f899-42ae-fc97-6a63aae9886c"
      },
      "execution_count": null,
      "outputs": [
        {
          "output_type": "stream",
          "name": "stdout",
          "text": [
            "Enter input: 5\n",
            "It is a number\n"
          ]
        }
      ]
    },
    {
      "cell_type": "code",
      "source": [
        "#  Anagram Check\n",
        "s1 = input(\"Enter first string: \").replace(\" \", \"\").lower()\n",
        "s2 = input(\"Enter second string: \").replace(\" \", \"\").lower()\n",
        "if sorted(s1) == sorted(s2):\n",
        "    print(\"Anagrams\")\n",
        "else:\n",
        "    print(\"Not anagrams\")\n"
      ],
      "metadata": {
        "colab": {
          "base_uri": "https://localhost:8080/"
        },
        "id": "-OBYVu00yxUL",
        "outputId": "ccb2e7f5-e7c8-493f-b5dc-5e9b11b02ee6"
      },
      "execution_count": null,
      "outputs": [
        {
          "output_type": "stream",
          "name": "stdout",
          "text": [
            "Enter first string: MRIDULA\n",
            "Enter second string: MICHAEL KORS \n",
            "Not anagrams\n"
          ]
        }
      ]
    },
    {
      "cell_type": "code",
      "source": [
        "# Binary, Octal, Hexadecimal\n",
        "n = int(input(\"Enter a number: \"))\n",
        "print(\"Binary:\", bin(n))\n",
        "print(\"Octal:\", oct(n))\n",
        "print(\"Hexadecimal:\", hex(n))\n"
      ],
      "metadata": {
        "colab": {
          "base_uri": "https://localhost:8080/"
        },
        "id": "8qoOGkgry3IJ",
        "outputId": "0233422e-4a9f-4c96-c4d7-eb8efd129b0a"
      },
      "execution_count": null,
      "outputs": [
        {
          "output_type": "stream",
          "name": "stdout",
          "text": [
            "Enter a number: 55\n",
            "Binary: 0b110111\n",
            "Octal: 0o67\n",
            "Hexadecimal: 0x37\n"
          ]
        }
      ]
    },
    {
      "cell_type": "code",
      "source": [
        "# Elements Greater than 50\n",
        "lst = list(map(int, input(\"Enter numbers: \").split()))\n",
        "result = [x for x in lst if x > 50]\n",
        "print(\"Elements > 50:\", result)\n"
      ],
      "metadata": {
        "colab": {
          "base_uri": "https://localhost:8080/"
        },
        "id": "p77-KtWCzRw4",
        "outputId": "da44ec2a-b1f5-4b76-f83c-cb00d058e123"
      },
      "execution_count": null,
      "outputs": [
        {
          "output_type": "stream",
          "name": "stdout",
          "text": [
            "Enter numbers: 55\n",
            "Elements > 50: [55]\n"
          ]
        }
      ]
    },
    {
      "cell_type": "code",
      "source": [
        "# Count Uppercase and Lowercase\n",
        "s = input(\"Enter a string: \")\n",
        "upper = sum(1 for c in s if c.isupper())\n",
        "lower = sum(1 for c in s if c.islower())\n",
        "print(\"Uppercase letters:\", upper)\n",
        "print(\"Lowercase letters:\", lower)\n"
      ],
      "metadata": {
        "colab": {
          "base_uri": "https://localhost:8080/"
        },
        "id": "_ilN9TUDzawj",
        "outputId": "253d0a4c-783e-48c3-a991-b51836e04091"
      },
      "execution_count": null,
      "outputs": [
        {
          "output_type": "stream",
          "name": "stdout",
          "text": [
            "Enter a string: MRIDULA\n",
            "Uppercase letters: 7\n",
            "Lowercase letters: 0\n"
          ]
        }
      ]
    },
    {
      "cell_type": "code",
      "source": [
        "# Lambda to Square List Elements\n",
        "lst = [1, 2, 3, 4, 5]\n",
        "squares = list(map(lambda x: x**2, lst))\n",
        "print(\"Squares:\", squares)\n"
      ],
      "metadata": {
        "colab": {
          "base_uri": "https://localhost:8080/"
        },
        "id": "zeJ4X6IQzgvY",
        "outputId": "fb846f42-f08b-4efe-e7c9-70def624564f"
      },
      "execution_count": null,
      "outputs": [
        {
          "output_type": "stream",
          "name": "stdout",
          "text": [
            "Squares: [1, 4, 9, 16, 25]\n"
          ]
        }
      ]
    },
    {
      "cell_type": "code",
      "source": [
        "# List of Primes from 1 to 100\n",
        "def primes_up_to_100():\n",
        "    primes = []\n",
        "    for num in range(2, 101):\n",
        "        for i in range(2, int(num**0.5)+1):\n",
        "            if num % i == 0:\n",
        "                break\n",
        "        else:\n",
        "            primes.append(num)\n",
        "    return primes\n",
        "\n",
        "print(\"Primes:\", primes_up_to_100())\n"
      ],
      "metadata": {
        "colab": {
          "base_uri": "https://localhost:8080/"
        },
        "id": "4vWkw2Yoz4JC",
        "outputId": "cedb4eb5-e77f-47d1-872d-2dbfea0c43fa"
      },
      "execution_count": null,
      "outputs": [
        {
          "output_type": "stream",
          "name": "stdout",
          "text": [
            "Primes: [2, 3, 5, 7, 11, 13, 17, 19, 23, 29, 31, 37, 41, 43, 47, 53, 59, 61, 67, 71, 73, 79, 83, 89, 97]\n"
          ]
        }
      ]
    },
    {
      "cell_type": "code",
      "source": [
        "# Simple Calculator using Functions\n",
        "def add(a, b): return a + b\n",
        "def sub(a, b): return a - b\n",
        "def mul(a, b): return a * b\n",
        "def div(a, b): return a / b if b != 0 else \"Cannot divide by zero\"\n",
        "\n",
        "a = float(input(\"Enter first number: \"))\n",
        "b = float(input(\"Enter second number: \"))\n",
        "op = input(\"Enter operator (+, -, *, /): \")\n",
        "\n",
        "if op == '+': print(add(a, b))\n",
        "elif op == '-': print(sub(a, b))\n",
        "elif op == '*': print(mul(a, b))\n",
        "elif op == '/': print(div(a, b))\n",
        "else: print(\"Invalid operator\")\n"
      ],
      "metadata": {
        "colab": {
          "base_uri": "https://localhost:8080/"
        },
        "id": "36JOdp2M0LHK",
        "outputId": "ebc4261e-fb77-4089-bb9f-0ddaa29fc6c2"
      },
      "execution_count": null,
      "outputs": [
        {
          "output_type": "stream",
          "name": "stdout",
          "text": [
            "Enter first number: 5\n",
            "Enter second number: 5\n",
            "Enter operator (+, -, *, /): *\n",
            "25.0\n"
          ]
        }
      ]
    },
    {
      "cell_type": "code",
      "source": [
        "#  Recursive Factorial\n",
        "def factorial(n):\n",
        "    if n == 0 or n == 1: return 1\n",
        "    return n * factorial(n - 1)\n",
        "\n",
        "print(\"Factorial:\", factorial(int(input(\"Enter number: \"))))\n"
      ],
      "metadata": {
        "colab": {
          "base_uri": "https://localhost:8080/"
        },
        "id": "L6MPP4NO0U14",
        "outputId": "47f8560d-4823-4200-8fb8-8fd23c6e0823"
      },
      "execution_count": null,
      "outputs": [
        {
          "output_type": "stream",
          "name": "stdout",
          "text": [
            "Enter number: 5\n",
            "Factorial: 120\n"
          ]
        }
      ]
    },
    {
      "cell_type": "code",
      "source": [
        "# Student Management (OOP)\n",
        "class Student:\n",
        "    def __init__(self, name, roll):\n",
        "        self.name = name\n",
        "        self.roll = roll\n",
        "\n",
        "    def display(self):\n",
        "        print(\"Name:\", self.name)\n",
        "        print(\"Roll No:\", self.roll)\n",
        "\n",
        "s1 = Student(\"MRIDULA\", 101)\n",
        "s1.display()\n"
      ],
      "metadata": {
        "colab": {
          "base_uri": "https://localhost:8080/"
        },
        "id": "y1w6n3ET0exB",
        "outputId": "80287da3-b5c4-47dd-83c6-70b14774def3"
      },
      "execution_count": null,
      "outputs": [
        {
          "output_type": "stream",
          "name": "stdout",
          "text": [
            "Name: MRIDULA\n",
            "Roll No: 101\n"
          ]
        }
      ]
    },
    {
      "cell_type": "code",
      "source": [
        "#  Read File: Count Lines and Words\n",
        "with open(\"index.html\", \"r\") as file:\n",
        "    lines = file.readlines()\n",
        "    word_count = sum(len(line.split()) for line in lines)\n",
        "    print(\"Lines:\", len(lines))\n",
        "    print(\"Words:\", word_count)\n"
      ],
      "metadata": {
        "colab": {
          "base_uri": "https://localhost:8080/",
          "height": 211
        },
        "id": "d-tb-CKl0oNx",
        "outputId": "abeb28a4-e325-4f2d-d09e-b9fed823e404"
      },
      "execution_count": null,
      "outputs": [
        {
          "output_type": "error",
          "ename": "FileNotFoundError",
          "evalue": "[Errno 2] No such file or directory: 'index.html'",
          "traceback": [
            "\u001b[0;31m---------------------------------------------------------------------------\u001b[0m",
            "\u001b[0;31mFileNotFoundError\u001b[0m                         Traceback (most recent call last)",
            "\u001b[0;32m/tmp/ipython-input-42-46304976.py\u001b[0m in \u001b[0;36m<cell line: 0>\u001b[0;34m()\u001b[0m\n\u001b[1;32m      1\u001b[0m \u001b[0;31m#  Read File: Count Lines and Words\u001b[0m\u001b[0;34m\u001b[0m\u001b[0;34m\u001b[0m\u001b[0m\n\u001b[0;32m----> 2\u001b[0;31m \u001b[0;32mwith\u001b[0m \u001b[0mopen\u001b[0m\u001b[0;34m(\u001b[0m\u001b[0;34m\"index.html\"\u001b[0m\u001b[0;34m,\u001b[0m \u001b[0;34m\"r\"\u001b[0m\u001b[0;34m)\u001b[0m \u001b[0;32mas\u001b[0m \u001b[0mfile\u001b[0m\u001b[0;34m:\u001b[0m\u001b[0;34m\u001b[0m\u001b[0;34m\u001b[0m\u001b[0m\n\u001b[0m\u001b[1;32m      3\u001b[0m     \u001b[0mlines\u001b[0m \u001b[0;34m=\u001b[0m \u001b[0mfile\u001b[0m\u001b[0;34m.\u001b[0m\u001b[0mreadlines\u001b[0m\u001b[0;34m(\u001b[0m\u001b[0;34m)\u001b[0m\u001b[0;34m\u001b[0m\u001b[0;34m\u001b[0m\u001b[0m\n\u001b[1;32m      4\u001b[0m     \u001b[0mword_count\u001b[0m \u001b[0;34m=\u001b[0m \u001b[0msum\u001b[0m\u001b[0;34m(\u001b[0m\u001b[0mlen\u001b[0m\u001b[0;34m(\u001b[0m\u001b[0mline\u001b[0m\u001b[0;34m.\u001b[0m\u001b[0msplit\u001b[0m\u001b[0;34m(\u001b[0m\u001b[0;34m)\u001b[0m\u001b[0;34m)\u001b[0m \u001b[0;32mfor\u001b[0m \u001b[0mline\u001b[0m \u001b[0;32min\u001b[0m \u001b[0mlines\u001b[0m\u001b[0;34m)\u001b[0m\u001b[0;34m\u001b[0m\u001b[0;34m\u001b[0m\u001b[0m\n\u001b[1;32m      5\u001b[0m     \u001b[0mprint\u001b[0m\u001b[0;34m(\u001b[0m\u001b[0;34m\"Lines:\"\u001b[0m\u001b[0;34m,\u001b[0m \u001b[0mlen\u001b[0m\u001b[0;34m(\u001b[0m\u001b[0mlines\u001b[0m\u001b[0;34m)\u001b[0m\u001b[0;34m)\u001b[0m\u001b[0;34m\u001b[0m\u001b[0;34m\u001b[0m\u001b[0m\n",
            "\u001b[0;31mFileNotFoundError\u001b[0m: [Errno 2] No such file or directory: 'index.html'"
          ]
        }
      ]
    },
    {
      "cell_type": "code",
      "source": [
        "#  Execution Time Decorator\n",
        "import time\n",
        "\n",
        "def timer(func):\n",
        "    def wrapper(*args, **kwargs):\n",
        "        start = time.time()\n",
        "        result = func(*args, **kwargs)\n",
        "        print(\"Execution Time:\", time.time() - start)\n",
        "        return result\n",
        "    return wrapper\n",
        "\n",
        "@timer\n",
        "def slow_function():\n",
        "    time.sleep(2)\n",
        "    print(\"Finished\")\n",
        "\n",
        "slow_function()\n"
      ],
      "metadata": {
        "colab": {
          "base_uri": "https://localhost:8080/"
        },
        "id": "7YpZRQHe00xa",
        "outputId": "1eadec79-76d8-4b7f-a442-9b1b9868dc4a"
      },
      "execution_count": null,
      "outputs": [
        {
          "output_type": "stream",
          "name": "stdout",
          "text": [
            "Finished\n",
            "Execution Time: 2.000192642211914\n"
          ]
        }
      ]
    },
    {
      "cell_type": "code",
      "source": [
        "# BankAccount Class\n",
        "class BankAccount:\n",
        "    def __init__(self, balance=0):\n",
        "        self.balance = balance\n",
        "\n",
        "    def deposit(self, amount):\n",
        "        self.balance += amount\n",
        "\n",
        "    def withdraw(self, amount):\n",
        "        if amount <= self.balance:\n",
        "            self.balance -= amount\n",
        "        else:\n",
        "            print(\"Insufficient balance\")\n",
        "\n",
        "acc = BankAccount()\n",
        "acc.deposit(1000)\n",
        "acc.withdraw(500)\n",
        "print(\"Final Balance:\", acc.balance)\n"
      ],
      "metadata": {
        "colab": {
          "base_uri": "https://localhost:8080/"
        },
        "id": "aGt0i8Us1FJ1",
        "outputId": "9ebc69ef-2552-4549-84c9-bcff9311983d"
      },
      "execution_count": null,
      "outputs": [
        {
          "output_type": "stream",
          "name": "stdout",
          "text": [
            "Final Balance: 500\n"
          ]
        }
      ]
    },
    {
      "cell_type": "code",
      "source": [
        "# Generator for Even Numbers\n",
        "def even_gen(n):\n",
        "    for i in range(2, n+1, 2):\n",
        "        yield i\n",
        "\n",
        "for num in even_gen(20):\n",
        "    print(num, end=' ')\n"
      ],
      "metadata": {
        "colab": {
          "base_uri": "https://localhost:8080/"
        },
        "id": "oJTD2kLV1L4Z",
        "outputId": "13239764-fa11-4074-fc2c-10540f15fd33"
      },
      "execution_count": null,
      "outputs": [
        {
          "output_type": "stream",
          "name": "stdout",
          "text": [
            "2 4 6 8 10 12 14 16 18 20 "
          ]
        }
      ]
    },
    {
      "cell_type": "code",
      "source": [
        "# *args and kwargs\n",
        "def display_args(*args, **kwargs):\n",
        "    print(\"Args:\", args)\n",
        "    print(\"Kwargs:\", kwargs)\n",
        "\n",
        "display_args(1, 2, 3, name=\"MRIDULA\", age=20)\n"
      ],
      "metadata": {
        "colab": {
          "base_uri": "https://localhost:8080/"
        },
        "id": "va5L_6JB1Pcm",
        "outputId": "db0ea8c5-c9aa-4b7a-a4ec-b311064b7970"
      },
      "execution_count": null,
      "outputs": [
        {
          "output_type": "stream",
          "name": "stdout",
          "text": [
            "Args: (1, 2, 3)\n",
            "Kwargs: {'name': 'MRIDULA', 'age': 20}\n"
          ]
        }
      ]
    },
    {
      "cell_type": "code",
      "source": [
        "# Squares of Even Numbers\n",
        "squares = [x**2 for x in range(1, 21) if x % 2 == 0]\n",
        "print(\"Even Squares:\", squares)\n"
      ],
      "metadata": {
        "colab": {
          "base_uri": "https://localhost:8080/"
        },
        "id": "XIFKesbM1ZJw",
        "outputId": "f6ab8f5e-f7f5-42d5-cbf9-91d2858b7671"
      },
      "execution_count": null,
      "outputs": [
        {
          "output_type": "stream",
          "name": "stdout",
          "text": [
            "Even Squares: [4, 16, 36, 64, 100, 144, 196, 256, 324, 400]\n"
          ]
        }
      ]
    },
    {
      "cell_type": "code",
      "source": [
        "# Return Only Unique Elements\n",
        "def unique_elements(lst):\n",
        "    return list(set(lst))\n",
        "\n",
        "print(unique_elements([1, 2, 2, 3, 4, 4, 5]))\n"
      ],
      "metadata": {
        "colab": {
          "base_uri": "https://localhost:8080/"
        },
        "id": "7xbaRAsa1kln",
        "outputId": "192ce1f8-c7ab-45ae-ca7a-8f6930c70510"
      },
      "execution_count": null,
      "outputs": [
        {
          "output_type": "stream",
          "name": "stdout",
          "text": [
            "[1, 2, 3, 4, 5]\n"
          ]
        }
      ]
    },
    {
      "cell_type": "code",
      "source": [
        "# Merge Two Dictionaries\n",
        "d1 = {'a': 1, 'b': 2}\n",
        "d2 = {'b': 3, 'c': 4}\n",
        "merged = {**d1, **d2}\n",
        "print(\"Merged Dictionary:\", merged)\n"
      ],
      "metadata": {
        "colab": {
          "base_uri": "https://localhost:8080/"
        },
        "id": "u4p97YEM1qQ-",
        "outputId": "a38aa589-e2e7-44e5-f00d-604d8f8b0190"
      },
      "execution_count": null,
      "outputs": [
        {
          "output_type": "stream",
          "name": "stdout",
          "text": [
            "Merged Dictionary: {'a': 1, 'b': 3, 'c': 4}\n"
          ]
        }
      ]
    },
    {
      "cell_type": "code",
      "source": [
        "# Inheritance and Method Override\n",
        "class Animal:\n",
        "    def speak(self):\n",
        "        print(\"Animal speaks\")\n",
        "\n",
        "class Dog(Animal):\n",
        "    def speak(self):\n",
        "        print(\"Dog barks\")\n",
        "\n",
        "d = Dog()\n",
        "d.speak()\n"
      ],
      "metadata": {
        "colab": {
          "base_uri": "https://localhost:8080/"
        },
        "id": "pQdJWS2J1vUS",
        "outputId": "840e690e-3540-44db-c4fa-887900168d03"
      },
      "execution_count": null,
      "outputs": [
        {
          "output_type": "stream",
          "name": "stdout",
          "text": [
            "Dog barks\n"
          ]
        }
      ]
    },
    {
      "cell_type": "code",
      "source": [
        "# Common Elements in Two Lists\n",
        "def common_elements(a, b):\n",
        "    return list(set(a) & set(b))\n",
        "\n",
        "print(common_elements([1, 2, 3, 4], [3, 4, 5, 6]))\n"
      ],
      "metadata": {
        "colab": {
          "base_uri": "https://localhost:8080/"
        },
        "id": "My4TZfCE11jX",
        "outputId": "40eb2105-68cc-422f-8749-b34a9fe7090f"
      },
      "execution_count": null,
      "outputs": [
        {
          "output_type": "stream",
          "name": "stdout",
          "text": [
            "[3, 4]\n"
          ]
        }
      ]
    },
    {
      "cell_type": "code",
      "source": [
        "#  try-except-finally\n",
        "try:\n",
        "    x = int(input(\"Enter number: \"))\n",
        "    result = 10 / x\n",
        "except ZeroDivisionError:\n",
        "    print(\"Cannot divide by zero\")\n",
        "except ValueError:\n",
        "    print(\"Invalid input\")\n",
        "finally:\n",
        "    print(\"Try-except-finally executed\")\n"
      ],
      "metadata": {
        "colab": {
          "base_uri": "https://localhost:8080/"
        },
        "id": "_Tx74AjD16Vv",
        "outputId": "85650543-ca9d-436f-aa38-f08ae52e04b0"
      },
      "execution_count": null,
      "outputs": [
        {
          "output_type": "stream",
          "name": "stdout",
          "text": [
            "Enter number: 5\n",
            "Try-except-finally executed\n"
          ]
        }
      ]
    },
    {
      "cell_type": "code",
      "source": [
        "#  Parse JSON String\n",
        "import json\n",
        "data = '{\"name\": \"MRIDULA\", \"age\": 20}'\n",
        "parsed = json.loads(data)\n",
        "print(\"Name:\", parsed[\"name\"])\n",
        "print(\"Age:\", parsed[\"age\"])\n"
      ],
      "metadata": {
        "colab": {
          "base_uri": "https://localhost:8080/"
        },
        "id": "-ajABvOI1_E6",
        "outputId": "1d99c897-0da3-474b-89de-2547907cbc78"
      },
      "execution_count": null,
      "outputs": [
        {
          "output_type": "stream",
          "name": "stdout",
          "text": [
            "Name: MRIDULA\n",
            "Age: 20\n"
          ]
        }
      ]
    },
    {
      "cell_type": "code",
      "source": [
        "# Private and Protected Members\n",
        "class Demo:\n",
        "    def __init__(self):\n",
        "        self._protected = \"Protected\"\n",
        "        self.__private = \"Private\"\n",
        "\n",
        "    def get_private(self):\n",
        "        return self.__private\n",
        "\n",
        "d = Demo()\n",
        "print(\"Protected:\", d._protected)\n",
        "print(\"Private:\", d.get_private())\n"
      ],
      "metadata": {
        "colab": {
          "base_uri": "https://localhost:8080/"
        },
        "id": "J7h095DJ2FPO",
        "outputId": "e6d1b6c9-d38c-4e73-8adb-7c4cee890201"
      },
      "execution_count": null,
      "outputs": [
        {
          "output_type": "stream",
          "name": "stdout",
          "text": [
            "Protected: Protected\n",
            "Private: Private\n"
          ]
        }
      ]
    },
    {
      "cell_type": "code",
      "source": [
        "# Email Validation\n",
        "import re\n",
        "def is_valid_email(email):\n",
        "    pattern = r'^[\\w\\.-]+@[\\w\\.-]+\\.\\w+$'\n",
        "    return re.match(pattern, email) is not None\n",
        "\n",
        "print(is_valid_email(\"abc@example.com\"))\n"
      ],
      "metadata": {
        "colab": {
          "base_uri": "https://localhost:8080/"
        },
        "id": "PtWfQ7hL2MWG",
        "outputId": "af8c6ccb-3341-4607-b73c-2eac053c6aef"
      },
      "execution_count": null,
      "outputs": [
        {
          "output_type": "stream",
          "name": "stdout",
          "text": [
            "True\n"
          ]
        }
      ]
    },
    {
      "cell_type": "code",
      "source": [
        "# CSV to List of Dictionaries\n",
        "import csv\n",
        "\n",
        "with open(\"sample.csv\", \"r\") as file:\n",
        "    reader = csv.DictReader(file)\n",
        "    data = list(reader)\n",
        "    print(data)\n"
      ],
      "metadata": {
        "colab": {
          "base_uri": "https://localhost:8080/",
          "height": 211
        },
        "id": "3k7ksYdQ2XY1",
        "outputId": "7c31625e-2248-4184-bc88-392194440183"
      },
      "execution_count": null,
      "outputs": [
        {
          "output_type": "error",
          "ename": "FileNotFoundError",
          "evalue": "[Errno 2] No such file or directory: 'sample.csv'",
          "traceback": [
            "\u001b[0;31m---------------------------------------------------------------------------\u001b[0m",
            "\u001b[0;31mFileNotFoundError\u001b[0m                         Traceback (most recent call last)",
            "\u001b[0;32m/tmp/ipython-input-59-2831012110.py\u001b[0m in \u001b[0;36m<cell line: 0>\u001b[0;34m()\u001b[0m\n\u001b[1;32m      2\u001b[0m \u001b[0;32mimport\u001b[0m \u001b[0mcsv\u001b[0m\u001b[0;34m\u001b[0m\u001b[0;34m\u001b[0m\u001b[0m\n\u001b[1;32m      3\u001b[0m \u001b[0;34m\u001b[0m\u001b[0m\n\u001b[0;32m----> 4\u001b[0;31m \u001b[0;32mwith\u001b[0m \u001b[0mopen\u001b[0m\u001b[0;34m(\u001b[0m\u001b[0;34m\"sample.csv\"\u001b[0m\u001b[0;34m,\u001b[0m \u001b[0;34m\"r\"\u001b[0m\u001b[0;34m)\u001b[0m \u001b[0;32mas\u001b[0m \u001b[0mfile\u001b[0m\u001b[0;34m:\u001b[0m\u001b[0;34m\u001b[0m\u001b[0;34m\u001b[0m\u001b[0m\n\u001b[0m\u001b[1;32m      5\u001b[0m     \u001b[0mreader\u001b[0m \u001b[0;34m=\u001b[0m \u001b[0mcsv\u001b[0m\u001b[0;34m.\u001b[0m\u001b[0mDictReader\u001b[0m\u001b[0;34m(\u001b[0m\u001b[0mfile\u001b[0m\u001b[0;34m)\u001b[0m\u001b[0;34m\u001b[0m\u001b[0;34m\u001b[0m\u001b[0m\n\u001b[1;32m      6\u001b[0m     \u001b[0mdata\u001b[0m \u001b[0;34m=\u001b[0m \u001b[0mlist\u001b[0m\u001b[0;34m(\u001b[0m\u001b[0mreader\u001b[0m\u001b[0;34m)\u001b[0m\u001b[0;34m\u001b[0m\u001b[0;34m\u001b[0m\u001b[0m\n",
            "\u001b[0;31mFileNotFoundError\u001b[0m: [Errno 2] No such file or directory: 'sample.csv'"
          ]
        }
      ]
    },
    {
      "cell_type": "code",
      "source": [
        "# Simple Login System\n",
        "users = {\"admin\": \"1234\", \"user\": \"pass\"}\n",
        "\n",
        "username = input(\"Username: \")\n",
        "password = input(\"Password: \")\n",
        "\n",
        "if users.get(username) == password:\n",
        "    print(\"Login successful\")\n",
        "else:\n",
        "    print(\"Invalid credentials\")\n"
      ],
      "metadata": {
        "colab": {
          "base_uri": "https://localhost:8080/"
        },
        "id": "eBHmR5lX2dWt",
        "outputId": "48b6e03e-6136-4c64-faea-b81495261ee6"
      },
      "execution_count": null,
      "outputs": [
        {
          "output_type": "stream",
          "name": "stdout",
          "text": [
            "Username: admin\n",
            "Password: 1234\n",
            "Login successful\n"
          ]
        }
      ]
    },
    {
      "cell_type": "code",
      "source": [
        "# Flatten Nested List (Recursion)\n",
        "def flatten(lst):\n",
        "    result = []\n",
        "    for item in lst:\n",
        "        if isinstance(item, list):\n",
        "            result.extend(flatten(item))\n",
        "        else:\n",
        "            result.append(item)\n",
        "    return result\n",
        "\n",
        "nested = [1, [2, [3, 4]], 5]\n",
        "print(\"Flattened List:\", flatten(nested))\n"
      ],
      "metadata": {
        "colab": {
          "base_uri": "https://localhost:8080/"
        },
        "id": "aN2xxEbU2jK9",
        "outputId": "76de36cb-f80d-489e-b28a-de5fc31140a9"
      },
      "execution_count": null,
      "outputs": [
        {
          "output_type": "stream",
          "name": "stdout",
          "text": [
            "Flattened List: [1, 2, 3, 4, 5]\n"
          ]
        }
      ]
    },
    {
      "cell_type": "code",
      "source": [
        "# map(), filter(), reduce()\n",
        "from functools import reduce\n",
        "\n",
        "lst = [1, 2, 3, 4, 5]\n",
        "\n",
        "mapped = list(map(lambda x: x * 2, lst))\n",
        "filtered = list(filter(lambda x: x % 2 == 0, lst))\n",
        "reduced = reduce(lambda x, y: x + y, lst)\n",
        "\n",
        "print(\"Mapped:\", mapped)\n",
        "print(\"Filtered:\", filtered)\n",
        "print(\"Reduced Sum:\", reduced)\n"
      ],
      "metadata": {
        "colab": {
          "base_uri": "https://localhost:8080/"
        },
        "id": "n4HT7q4P2zdb",
        "outputId": "eb1d5686-cc5d-444d-d6e3-f01b13c7eda4"
      },
      "execution_count": null,
      "outputs": [
        {
          "output_type": "stream",
          "name": "stdout",
          "text": [
            "Mapped: [2, 4, 6, 8, 10]\n",
            "Filtered: [2, 4]\n",
            "Reduced Sum: 15\n"
          ]
        }
      ]
    },
    {
      "cell_type": "code",
      "source": [
        "# CLI App for Basic Operations\n",
        "while True:\n",
        "    print(\"\\n1. Add  2. Subtract  3. Multiply  4. Exit\")\n",
        "    choice = input(\"Choose option: \")\n",
        "    if choice == '4':\n",
        "        break\n",
        "    a = float(input(\"Enter a: \"))\n",
        "    b = float(input(\"Enter b: \"))\n",
        "\n",
        "    if choice == '1': print(\"Result:\", a + b)\n",
        "    elif choice == '2': print(\"Result:\", a - b)\n",
        "    elif choice == '3': print(\"Result:\", a * b)\n",
        "    else: print(\"Invalid option\")\n"
      ],
      "metadata": {
        "colab": {
          "base_uri": "https://localhost:8080/"
        },
        "id": "LzHDZWx625Xd",
        "outputId": "bee8f627-9689-4963-ed6f-9f324362329c"
      },
      "execution_count": null,
      "outputs": [
        {
          "name": "stdout",
          "output_type": "stream",
          "text": [
            "\n",
            "1. Add  2. Subtract  3. Multiply  4. Exit\n",
            "Choose option: 3\n",
            "Enter a: 5\n",
            "Enter b: 5\n",
            "Result: 25.0\n",
            "\n",
            "1. Add  2. Subtract  3. Multiply  4. Exit\n",
            "Choose option: 4\n"
          ]
        }
      ]
    },
    {
      "cell_type": "code",
      "source": [
        "#  Mini Quiz\n",
        "score = 0\n",
        "questions = {\n",
        "    \"What is the capital of India? \": \"Delhi\",\n",
        "    \"2 + 2 = ? \": \"4\",\n",
        "    \"Python is a ___ language? \": \"Programming\"\n",
        "}\n",
        "\n",
        "for q, a in questions.items():\n",
        "    user_ans = input(q)\n",
        "    if user_ans.strip().lower() == a.lower():\n",
        "        score += 1\n",
        "\n",
        "print(\"Score:\", score, \"/\", len(questions))\n"
      ],
      "metadata": {
        "colab": {
          "base_uri": "https://localhost:8080/"
        },
        "id": "shYhHrRL3Bbr",
        "outputId": "07d1f826-f02f-49a9-b8d1-be94efd2b918"
      },
      "execution_count": null,
      "outputs": [
        {
          "output_type": "stream",
          "name": "stdout",
          "text": [
            "What is the capital of India? Delhi\n",
            "2 + 2 = ? 4\n",
            "Python is a ___ language? programming \n",
            "Score: 3 / 3\n"
          ]
        }
      ]
    },
    {
      "cell_type": "code",
      "source": [],
      "metadata": {
        "id": "f6YoABxy3MeP"
      },
      "execution_count": null,
      "outputs": []
    }
  ]
}